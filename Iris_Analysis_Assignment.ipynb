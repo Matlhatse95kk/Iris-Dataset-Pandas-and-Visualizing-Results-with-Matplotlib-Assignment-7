{
 "cells": [
  {
   "cell_type": "markdown",
   "metadata": {},
   "source": [
    "# Analyzing the Iris Dataset with Pandas and Visualizing Results with Matplotlib"
   ]
  },
  {
   "cell_type": "code",
   "execution_count": null,
   "metadata": {},
   "outputs": [],
   "source": [
    "# Task 1: Load and Explore the Dataset\n",
    "import pandas as pd\n",
    "from sklearn.datasets import load_iris\n",
    "\n",
    "# Load Iris dataset\n",
    "iris = load_iris()\n",
    "df = pd.DataFrame(iris.data, columns=iris.feature_names)\n",
    "df['species'] = iris.target\n",
    "\n",
    "# Map numeric target to species names\n",
    "df['species'] = df['species'].map(dict(zip(range(3), iris.target_names)))\n",
    "\n",
    "# View dataset\n",
    "print(df.head())\n",
    "print(df.info())\n",
    "print(df.isnull().sum())"
   ]
  },
  {
   "cell_type": "code",
   "execution_count": null,
   "metadata": {},
   "outputs": [],
   "source": [
    "# Task 2: Basic Data Analysis\n",
    "# Descriptive statistics\n",
    "print(df.describe())\n",
    "\n",
    "# Group by species\n",
    "grouped = df.groupby('species').mean()\n",
    "print(grouped)\n",
    "\n",
    "# Identify patterns\n",
    "correlation = df.corr(numeric_only=True)\n",
    "print(\"Correlation matrix:\\n\", correlation)"
   ]
  },
  {
   "cell_type": "code",
   "execution_count": null,
   "metadata": {},
   "outputs": [],
   "source": [
    "# Task 3: Data Visualization\n",
    "import matplotlib.pyplot as plt\n",
    "import seaborn as sns\n",
    "\n",
    "# Line chart - average sepal length by species\n",
    "df.groupby('species')['sepal length (cm)'].mean().plot(kind='line', marker='o', title='Avg Sepal Length by Species')\n",
    "plt.ylabel('Sepal Length (cm)')\n",
    "plt.show()\n",
    "\n",
    "# Bar chart\n",
    "df.groupby('species')['petal length (cm)'].mean().plot(kind='bar', title='Avg Petal Length by Species')\n",
    "plt.ylabel('Petal Length (cm)')\n",
    "plt.show()\n",
    "\n",
    "# Histogram\n",
    "df['sepal width (cm)'].plot(kind='hist', bins=20, title='Sepal Width Distribution')\n",
    "plt.xlabel('Sepal Width (cm)')\n",
    "plt.show()\n",
    "\n",
    "# Scatter plot\n",
    "sns.scatterplot(x='sepal length (cm)', y='petal length (cm)', hue='species', data=df)\n",
    "plt.title('Sepal Length vs Petal Length')\n",
    "plt.show()"
   ]
  }
 ],
 "metadata": {
  "kernelspec": {
   "display_name": "Python 3",
   "language": "python",
   "name": "python3"
  },
  "language_info": {
   "name": "python",
   "version": "3.x"
  }
 },
 "nbformat": 4,
 "nbformat_minor": 2
}
